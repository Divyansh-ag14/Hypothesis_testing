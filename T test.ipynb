{
 "cells": [
  {
   "cell_type": "markdown",
   "metadata": {},
   "source": [
    "# One Sample T test - ttest_1samp(sample, pop_mean)"
   ]
  },
  {
   "cell_type": "markdown",
   "metadata": {},
   "source": [
    "The one-sample t-test is a statistical hypothesis test used to determine whether an unknown population mean is different from a specific value."
   ]
  },
  {
   "cell_type": "markdown",
   "metadata": {},
   "source": [
    "Define Hypotheses:\n",
    "\n",
    "Null Hypothesis (h0): there is no significant difference between the sample and population mean\n",
    "\n",
    "Alternate Hypothesis (h1): there is a significant difference between the sample and population mean"
   ]
  },
  {
   "cell_type": "code",
   "execution_count": 1,
   "metadata": {},
   "outputs": [],
   "source": [
    "import numpy as np"
   ]
  },
  {
   "cell_type": "markdown",
   "metadata": {},
   "source": [
    "Create a population"
   ]
  },
  {
   "cell_type": "code",
   "execution_count": 2,
   "metadata": {},
   "outputs": [
    {
     "data": {
      "text/plain": [
       "array([43., 92., 71., 18., 15., 18., 90., 86., 41., 67., 24., 57., 64.,\n",
       "       46., 25., 86., 94., 30., 49., 27., 79., 82., 22., 57.,  7., 39.,\n",
       "       47., 43., 10., 22., 25., 81., 16., 23., 57., 86., 11.,  8., 69.,\n",
       "       72., 83., 10., 19., 32., 28., 70., 50., 78., 67., 72., 13., 56.,\n",
       "       83., 81.,  8., 93., 25., 34., 10., 35., 59., 25., 99., 23., 53.,\n",
       "       92., 20., 94., 67., 76., 55., 77.,  6., 68., 80., 34., 91., 94.,\n",
       "       29., 38.,  4., 79., 56., 94., 38., 96., 57., 66., 64., 12.,  3.,\n",
       "       84., 87., 79., 90., 56., 23.,  2., 61., 49.])"
      ]
     },
     "execution_count": 2,
     "metadata": {},
     "output_type": "execute_result"
    }
   ],
   "source": [
    "scores=np.zeros((1,100))\n",
    "for i in range(100):\n",
    "    scores[0][i] = np.random.randint(0,100)\n",
    "scores = scores[0]\n",
    "scores\n"
   ]
  },
  {
   "cell_type": "code",
   "execution_count": 3,
   "metadata": {},
   "outputs": [
    {
     "data": {
      "text/plain": [
       "51.26"
      ]
     },
     "execution_count": 3,
     "metadata": {},
     "output_type": "execute_result"
    }
   ],
   "source": [
    "pop_mean = np.mean(scores)\n",
    "pop_mean"
   ]
  },
  {
   "cell_type": "markdown",
   "metadata": {},
   "source": [
    "Generate a random sample from population"
   ]
  },
  {
   "cell_type": "code",
   "execution_count": 4,
   "metadata": {},
   "outputs": [
    {
     "data": {
      "text/plain": [
       "array([38., 32., 34., 56., 22., 71., 49.,  4., 20., 43., 34., 50., 18.,\n",
       "       28., 39., 68.,  2., 94., 38., 56., 71., 71., 56., 77., 20.,  6.,\n",
       "       67., 94., 90., 25.])"
      ]
     },
     "execution_count": 4,
     "metadata": {},
     "output_type": "execute_result"
    }
   ],
   "source": [
    "sample_size=30\n",
    "sample_scores=np.random.choice(scores,sample_size)\n",
    "sample_scores"
   ]
  },
  {
   "cell_type": "code",
   "execution_count": 5,
   "metadata": {},
   "outputs": [
    {
     "data": {
      "text/plain": [
       "45.766666666666666"
      ]
     },
     "execution_count": 5,
     "metadata": {},
     "output_type": "execute_result"
    }
   ],
   "source": [
    "sample_mean = np.mean(sample_scores)\n",
    "sample_mean"
   ]
  },
  {
   "cell_type": "markdown",
   "metadata": {},
   "source": [
    "Perform T_test"
   ]
  },
  {
   "cell_type": "code",
   "execution_count": 6,
   "metadata": {},
   "outputs": [],
   "source": [
    "from scipy.stats import ttest_1samp"
   ]
  },
  {
   "cell_type": "code",
   "execution_count": 7,
   "metadata": {},
   "outputs": [],
   "source": [
    "def one_sample_ttest(sample, pop_mean):\n",
    "    _, p = ttest_1samp(sample, pop_mean)\n",
    "    print(\"p value:\", np.round(p,decimals=3))\n",
    "    if p < 0.05: \n",
    "        print(\"Nulll Hypothesis (h0) can be rejected!\") # sig. diff. bw sample and population means\n",
    "    else:\n",
    "        print(\"There is not enough evidence to reject the Null Hypothesis (h0)!\") # no sig. diff. bw sample and population means\n",
    "    "
   ]
  },
  {
   "cell_type": "code",
   "execution_count": 8,
   "metadata": {},
   "outputs": [
    {
     "name": "stdout",
     "output_type": "stream",
     "text": [
      "p value: 0.262\n",
      "There is not enough evidence to reject the Null Hypothesis (h0)!\n"
     ]
    }
   ],
   "source": [
    "one_sample_ttest(sample_scores, pop_mean)"
   ]
  },
  {
   "cell_type": "markdown",
   "metadata": {},
   "source": [
    "A p-value is the probability the getting the observed (or more extreme) result of a test if the null hypothesis (h0) is true"
   ]
  },
  {
   "cell_type": "markdown",
   "metadata": {},
   "source": [
    "# 2 Sample T test (Independent) - ttest_ind(sample1, sample2)"
   ]
  },
  {
   "cell_type": "markdown",
   "metadata": {},
   "source": [
    "The two-sample t-test (independent samples t-test) is a method used to test whether the means of two groups are equal or not"
   ]
  },
  {
   "cell_type": "markdown",
   "metadata": {},
   "source": [
    "Define Hypotheses:\n",
    "\n",
    "Null Hypothesis (h0): there is no significant difference between the means of the independent samples\n",
    "\n",
    "Alternate Hypothesis (h1): there is a significant difference between the sample means"
   ]
  },
  {
   "cell_type": "code",
   "execution_count": 9,
   "metadata": {},
   "outputs": [],
   "source": [
    "from scipy.stats import ttest_ind"
   ]
  },
  {
   "cell_type": "code",
   "execution_count": 10,
   "metadata": {},
   "outputs": [
    {
     "data": {
      "text/plain": [
       "array([57., 96., 25., 43., 94., 23., 24., 67.,  4., 57.,  4., 13., 83.,\n",
       "       93., 86., 56., 22., 92., 67.,  3., 25., 22., 28., 20., 78., 34.,\n",
       "       96.,  8., 57., 13.])"
      ]
     },
     "execution_count": 10,
     "metadata": {},
     "output_type": "execute_result"
    }
   ],
   "source": [
    "sample_scores_2=np.random.choice(scores,sample_size)\n",
    "sample_scores_2"
   ]
  },
  {
   "cell_type": "code",
   "execution_count": 11,
   "metadata": {},
   "outputs": [
    {
     "data": {
      "text/plain": [
       "46.333333333333336"
      ]
     },
     "execution_count": 11,
     "metadata": {},
     "output_type": "execute_result"
    }
   ],
   "source": [
    "sample_2_mean = sample_scores_2.mean()\n",
    "sample_2_mean"
   ]
  },
  {
   "cell_type": "code",
   "execution_count": 12,
   "metadata": {},
   "outputs": [],
   "source": [
    "def two_sample_ttest(sample1, sample2):\n",
    "    _, p = ttest_ind(sample1, sample2)\n",
    "    print(\"p value:\", np.round(p,decimals=3))\n",
    "    if p < 0.05: \n",
    "        print(\"Nulll Hypothesis (h0) can be rejected!\") # sig. diff. bw means of both samples\n",
    "    else:\n",
    "        print(\"There is not enough evidence to reject the Null Hypothesis (h0)!\") # no sig. diff. \n",
    "    "
   ]
  },
  {
   "cell_type": "code",
   "execution_count": 13,
   "metadata": {},
   "outputs": [
    {
     "name": "stdout",
     "output_type": "stream",
     "text": [
      "p value: 0.941\n",
      "There is not enough evidence to reject the Null Hypothesis (h0)!\n"
     ]
    }
   ],
   "source": [
    "two_sample_ttest(sample_scores, sample_scores_2)"
   ]
  },
  {
   "cell_type": "markdown",
   "metadata": {},
   "source": [
    "Note: Both samples (sample_scores and sample_scores_2) are completely independent of one another as they were selected randomly from scores"
   ]
  },
  {
   "cell_type": "markdown",
   "metadata": {},
   "source": [
    "# Paired T test -  ttest_rel(sample1, sample2)"
   ]
  },
  {
   "cell_type": "markdown",
   "metadata": {},
   "source": [
    "Compares the means of two measurements taken from the same individual, object, or related units. \n",
    "\n",
    "These paired measurements can represent things like: A measurement taken at two different times (e.g., pre-test and post-test score)"
   ]
  },
  {
   "cell_type": "markdown",
   "metadata": {},
   "source": [
    "Define Hypotheses:\n",
    "\n",
    "Null Hypothesis (h0): there is no significant difference between the means of the paired samples\n",
    "\n",
    "Alternate Hypothesis (h1): there is a significant difference between the means"
   ]
  },
  {
   "cell_type": "code",
   "execution_count": 14,
   "metadata": {},
   "outputs": [],
   "source": [
    "import scipy.stats as stats"
   ]
  },
  {
   "cell_type": "code",
   "execution_count": 15,
   "metadata": {},
   "outputs": [
    {
     "name": "stdout",
     "output_type": "stream",
     "text": [
      "s1\n",
      "[ 10.53708189  -9.59631993  -7.94585139 -10.09673945  20.71874901\n",
      "  -4.75696191   9.80698788  11.25614307  12.22353018  14.10326442\n",
      "   5.52467471  -9.00124273   3.35660182  -1.69418264  12.11979301\n",
      "  13.5532108    6.76463381  15.69086258  10.06566129  12.1353775\n",
      "  11.7155515   15.48822943   4.62792502   5.55703342  24.20794611\n",
      "  15.71813886  13.5764859   11.78236866  -6.83241     -4.28932255\n",
      "   2.65451189  -4.8131382   17.78519151  16.19017138  15.63490301\n",
      "  15.64924909  18.12775051  11.94768725  22.17620133   8.781742\n",
      "  -0.34058822   7.09047263  13.4541488   19.36486129  12.59518422\n",
      "  15.45008524  22.94387481   1.01324157  11.5851746    1.10843976\n",
      "  20.96495218   6.34231086  -3.9810508    4.68886498  16.57386087\n",
      "   0.82668595   0.88591178   2.739668     8.03099184 -14.57948805\n",
      "   3.61770438  10.0268816    7.02587537   3.59878701  11.67459141\n",
      "  -4.24033068   0.12263636  -7.7101517   -9.98352859  12.0897582\n",
      "  -2.83944367  -3.66835354  15.76232063  15.58171556  -1.21777709\n",
      "  -6.8039459    6.35326709  16.62848712  21.00232074  17.94640072\n",
      "  21.83757921  14.00267411   1.21203511   7.68977595  22.71278926\n",
      "  13.3742492   13.22327769  -6.49524871   7.71667041   9.30327204\n",
      "   6.42795233  20.78901447  26.20121026   5.7834609   20.92215959\n",
      "  -2.83070397   5.75060901   1.85153561  -3.86905654   0.14836909]\n",
      "mean: 7.679279323732679\n",
      "--------------------------------------------------------------------------------\n",
      "s2\n",
      "[ 15.88235388   4.10645263  -6.78562978  -7.11753038  -2.25074901\n",
      "   3.55624767   5.7868501    9.14102329 -10.25832813   4.60730111\n",
      "  -4.37727873  -3.55000898  22.88905488   6.98930585  14.76428016\n",
      "   2.56448525  19.00632363   1.46198845   4.90218741  -7.08015679\n",
      " -14.31584444  18.29562358   3.43789801  -0.13598     -5.41100618\n",
      "  20.50077633  13.34096798   3.47715791  -6.78496824  23.84537277\n",
      "  -0.77876297  -3.07941883   4.66662435   2.39907907  -8.17021028\n",
      "  15.72709262  -4.44983004   5.56022814  14.07492246  13.04857138\n",
      "   5.45377058   9.79152297  -2.52524383   5.77090308  -0.66379858\n",
      "   8.70437572  -0.34488143   0.41390427   6.08741066  15.27619938\n",
      "   2.84210957  -2.07841866  -5.68232276   6.25000594   7.27832124\n",
      "   2.4152147   18.9646603   10.10100125 -14.71593763   6.74323685\n",
      "  10.93729298   3.00614214  12.11550798  23.39888177  -1.09918629\n",
      "   2.42985376 -11.14480995   1.19969346  -7.07698112   4.36155285\n",
      "   9.44264693  10.28012534   6.31068273  -7.08703509  -4.06654783\n",
      "   9.38411393  19.92864557  -0.09920519   7.82061522  -6.36529672\n",
      " -11.61358589   3.06341933  -5.19781985   3.87168689   3.06165548\n",
      "   7.11282891  16.38222588  -2.59742134  14.69335386   3.73423208\n",
      "   7.62385154   6.12462503   3.28086947  23.87092781 -13.28963779\n",
      "   5.0629839   -0.20495147  14.37677929   4.42762762  23.49879893]\n",
      "mean: 4.4052764188898745\n"
     ]
    }
   ],
   "source": [
    "# create 2 paired samples say scores and scores_after_revision\n",
    "np.random.seed(12345678) # fix random seed to get same numbers\n",
    "\n",
    "s1 = stats.norm.rvs(loc=5,scale=10,size=100)\n",
    "s2 = (stats.norm.rvs(loc=5,scale=10,size=100) + stats.norm.rvs(scale=0.2,size=100))\n",
    "\n",
    "print(\"s1\")\n",
    "print(s1)\n",
    "print(\"mean:\", s1.mean())\n",
    "print(\"----\"*20)\n",
    "print(\"s2\")\n",
    "print(s2)\n",
    "print(\"mean:\", s2.mean())"
   ]
  },
  {
   "cell_type": "markdown",
   "metadata": {},
   "source": [
    "DataFrame contaning both samples and their difference"
   ]
  },
  {
   "cell_type": "code",
   "execution_count": 16,
   "metadata": {},
   "outputs": [
    {
     "data": {
      "text/html": [
       "<div>\n",
       "<style scoped>\n",
       "    .dataframe tbody tr th:only-of-type {\n",
       "        vertical-align: middle;\n",
       "    }\n",
       "\n",
       "    .dataframe tbody tr th {\n",
       "        vertical-align: top;\n",
       "    }\n",
       "\n",
       "    .dataframe thead th {\n",
       "        text-align: right;\n",
       "    }\n",
       "</style>\n",
       "<table border=\"1\" class=\"dataframe\">\n",
       "  <thead>\n",
       "    <tr style=\"text-align: right;\">\n",
       "      <th></th>\n",
       "      <th>s1</th>\n",
       "      <th>s2</th>\n",
       "      <th>s1 - s2</th>\n",
       "    </tr>\n",
       "  </thead>\n",
       "  <tbody>\n",
       "    <tr>\n",
       "      <th>0</th>\n",
       "      <td>10.537082</td>\n",
       "      <td>15.882354</td>\n",
       "      <td>-5.345272</td>\n",
       "    </tr>\n",
       "    <tr>\n",
       "      <th>1</th>\n",
       "      <td>-9.596320</td>\n",
       "      <td>4.106453</td>\n",
       "      <td>-13.702773</td>\n",
       "    </tr>\n",
       "    <tr>\n",
       "      <th>2</th>\n",
       "      <td>-7.945851</td>\n",
       "      <td>-6.785630</td>\n",
       "      <td>-1.160222</td>\n",
       "    </tr>\n",
       "    <tr>\n",
       "      <th>3</th>\n",
       "      <td>-10.096739</td>\n",
       "      <td>-7.117530</td>\n",
       "      <td>-2.979209</td>\n",
       "    </tr>\n",
       "    <tr>\n",
       "      <th>4</th>\n",
       "      <td>20.718749</td>\n",
       "      <td>-2.250749</td>\n",
       "      <td>22.969498</td>\n",
       "    </tr>\n",
       "  </tbody>\n",
       "</table>\n",
       "</div>"
      ],
      "text/plain": [
       "          s1         s2    s1 - s2\n",
       "0  10.537082  15.882354  -5.345272\n",
       "1  -9.596320   4.106453 -13.702773\n",
       "2  -7.945851  -6.785630  -1.160222\n",
       "3 -10.096739  -7.117530  -2.979209\n",
       "4  20.718749  -2.250749  22.969498"
      ]
     },
     "execution_count": 16,
     "metadata": {},
     "output_type": "execute_result"
    }
   ],
   "source": [
    "import pandas as pd\n",
    "df = pd.DataFrame({\n",
    "    \"s1\": s1,\n",
    "    \"s2\": s2,\n",
    "    \"s1 - s2\": s1 - s2\n",
    "})\n",
    "\n",
    "df.head()"
   ]
  },
  {
   "cell_type": "code",
   "execution_count": 17,
   "metadata": {},
   "outputs": [],
   "source": [
    "def paired_ttest(sample1, sample2):\n",
    "    _, p = stats.ttest_rel(sample1, sample2)\n",
    "    print(\"p value:\", np.round(p,decimals=3))\n",
    "    if p < 0.05: \n",
    "        print(\"Nulll Hypothesis (h0) can be rejected!\") # sig. diff. bw means\n",
    "    else:\n",
    "        print(\"There is not enough evidence to reject the Null Hypothesis (h0)!\") # no sig. diff."
   ]
  },
  {
   "cell_type": "code",
   "execution_count": 18,
   "metadata": {},
   "outputs": [
    {
     "name": "stdout",
     "output_type": "stream",
     "text": [
      "p value: 0.016\n",
      "Nulll Hypothesis (h0) can be rejected!\n"
     ]
    }
   ],
   "source": [
    "paired_ttest(s1, s2)"
   ]
  },
  {
   "cell_type": "code",
   "execution_count": null,
   "metadata": {},
   "outputs": [],
   "source": []
  }
 ],
 "metadata": {
  "kernelspec": {
   "display_name": "Python 3",
   "language": "python",
   "name": "python3"
  },
  "language_info": {
   "codemirror_mode": {
    "name": "ipython",
    "version": 3
   },
   "file_extension": ".py",
   "mimetype": "text/x-python",
   "name": "python",
   "nbconvert_exporter": "python",
   "pygments_lexer": "ipython3",
   "version": "3.7.3"
  }
 },
 "nbformat": 4,
 "nbformat_minor": 2
}
